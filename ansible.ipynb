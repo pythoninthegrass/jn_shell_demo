{
 "cells": [
  {
   "cell_type": "markdown",
   "metadata": {},
   "source": [
    "# jn_shell_demo\n",
    "\n",
    "Demos of using Jupyter Notebook calling shell commands.\n",
    "\n",
    "stdout and stderr are captured and displayed in the notebook."
   ]
  },
  {
   "cell_type": "code",
   "execution_count": 4,
   "metadata": {},
   "outputs": [
    {
     "name": "stdout",
     "output_type": "stream",
     "text": [
      "Hello, world!\n"
     ]
    }
   ],
   "source": [
    "%%bash\n",
    "echo \"Hello, world!\""
   ]
  },
  {
   "cell_type": "code",
   "execution_count": 5,
   "metadata": {},
   "outputs": [
    {
     "name": "stdout",
     "output_type": "stream",
     "text": [
      "Hello, world!\n"
     ]
    }
   ],
   "source": [
    "! python3 -c \"print('Hello, world!')\""
   ]
  },
  {
   "cell_type": "code",
   "execution_count": 6,
   "metadata": {},
   "outputs": [
    {
     "name": "stdout",
     "output_type": "stream",
     "text": [
      "\n",
      "PLAY [Get installed software] **************************************************\n",
      "\n",
      "TASK [Get installed software on macOS] *****************************************\n",
      "ok: [localhost]\n",
      "\n",
      "TASK [debug] *******************************************************************\n",
      "ok: [localhost] => {\n",
      "    \"msg\": [\n",
      "        \"abseil 20230802.1 20240116.2 20240116.1\",\n",
      "        \"afflib 3.7.20_1\",\n",
      "        \"ansible 9.1.0 9.4.0_1 9.3.0\",\n",
      "        \"ansible-lint 24.2.2 6.22.2 24.2.0_1 6.22.1\",\n",
      "        \"ant 1.10.14\"\n",
      "    ]\n",
      "}\n",
      "\n",
      "TASK [Save installed software to file] *****************************************\n",
      "changed: [localhost]\n",
      "\n",
      "PLAY RECAP *********************************************************************\n",
      "localhost                  : ok=3    changed=1    unreachable=0    failed=0    skipped=0    rescued=0    ignored=0   \n",
      "\n"
     ]
    }
   ],
   "source": [
    "%%bash\n",
    "ansible-playbook -i hosts playbook.yml --tags qa"
   ]
  },
  {
   "cell_type": "code",
   "execution_count": 7,
   "metadata": {},
   "outputs": [
    {
     "name": "stdout",
     "output_type": "stream",
     "text": [
      "package,version\n",
      "abseil,20230802.1\n",
      "afflib,3.7.20_1\n",
      "ansible,9.1.0\n",
      "ansible-lint,24.2.2\n"
     ]
    }
   ],
   "source": [
    "%%bash\n",
    "cat installed_software*.csv | head -n 5"
   ]
  }
 ],
 "metadata": {
  "kernelspec": {
   "display_name": "Python 3 (ipykernel)",
   "language": "python",
   "name": "python3"
  },
  "language_info": {
   "codemirror_mode": {
    "name": "ipython",
    "version": 3
   },
   "file_extension": ".py",
   "mimetype": "text/x-python",
   "name": "python",
   "nbconvert_exporter": "python",
   "pygments_lexer": "ipython3",
   "version": "3.11.9"
  }
 },
 "nbformat": 4,
 "nbformat_minor": 4
}
